{
  "nbformat": 4,
  "nbformat_minor": 0,
  "metadata": {
    "colab": {
      "name": "FPVIS_ZapLudia.ipynb",
      "provenance": [],
      "collapsed_sections": []
    },
    "kernelspec": {
      "name": "python3",
      "display_name": "Python 3"
    }
  },
  "cells": [
    {
      "cell_type": "code",
      "metadata": {
        "id": "Vr3LkmuM6tuV",
        "colab_type": "code",
        "outputId": "24b6700a-321d-4c39-b934-157a726b1d18",
        "colab": {
          "base_uri": "https://localhost:8080/",
          "height": 34
        }
      },
      "source": [
        "from google.colab import drive\n",
        "drive.mount('/content/drive')"
      ],
      "execution_count": 0,
      "outputs": [
        {
          "output_type": "stream",
          "text": [
            "Drive already mounted at /content/drive; to attempt to forcibly remount, call drive.mount(\"/content/drive\", force_remount=True).\n"
          ],
          "name": "stdout"
        }
      ]
    },
    {
      "cell_type": "code",
      "metadata": {
        "id": "XhN5ptvLG9mR",
        "colab_type": "code",
        "outputId": "3a45ae93-1cdb-4e60-b594-bbc7ed4bb002",
        "colab": {
          "base_uri": "https://localhost:8080/",
          "height": 473
        }
      },
      "source": [
        "pip install geopandas"
      ],
      "execution_count": 0,
      "outputs": [
        {
          "output_type": "stream",
          "text": [
            "Collecting geopandas\n",
            "\u001b[?25l  Downloading https://files.pythonhosted.org/packages/5b/0c/e6c99e561b03482220f00443f610ccf4dce9b50f4b1093d735f93c6fc8c6/geopandas-0.6.2-py2.py3-none-any.whl (919kB)\n",
            "\r\u001b[K     |▍                               | 10kB 14.9MB/s eta 0:00:01\r\u001b[K     |▊                               | 20kB 1.6MB/s eta 0:00:01\r\u001b[K     |█                               | 30kB 2.3MB/s eta 0:00:01\r\u001b[K     |█▍                              | 40kB 1.6MB/s eta 0:00:01\r\u001b[K     |█▉                              | 51kB 2.0MB/s eta 0:00:01\r\u001b[K     |██▏                             | 61kB 2.4MB/s eta 0:00:01\r\u001b[K     |██▌                             | 71kB 2.8MB/s eta 0:00:01\r\u001b[K     |██▉                             | 81kB 3.1MB/s eta 0:00:01\r\u001b[K     |███▏                            | 92kB 2.5MB/s eta 0:00:01\r\u001b[K     |███▋                            | 102kB 2.7MB/s eta 0:00:01\r\u001b[K     |████                            | 112kB 2.7MB/s eta 0:00:01\r\u001b[K     |████▎                           | 122kB 2.7MB/s eta 0:00:01\r\u001b[K     |████▋                           | 133kB 2.7MB/s eta 0:00:01\r\u001b[K     |█████                           | 143kB 2.7MB/s eta 0:00:01\r\u001b[K     |█████▍                          | 153kB 2.7MB/s eta 0:00:01\r\u001b[K     |█████▊                          | 163kB 2.7MB/s eta 0:00:01\r\u001b[K     |██████                          | 174kB 2.7MB/s eta 0:00:01\r\u001b[K     |██████▍                         | 184kB 2.7MB/s eta 0:00:01\r\u001b[K     |██████▊                         | 194kB 2.7MB/s eta 0:00:01\r\u001b[K     |███████▏                        | 204kB 2.7MB/s eta 0:00:01\r\u001b[K     |███████▌                        | 215kB 2.7MB/s eta 0:00:01\r\u001b[K     |███████▉                        | 225kB 2.7MB/s eta 0:00:01\r\u001b[K     |████████▏                       | 235kB 2.7MB/s eta 0:00:01\r\u001b[K     |████████▌                       | 245kB 2.7MB/s eta 0:00:01\r\u001b[K     |█████████                       | 256kB 2.7MB/s eta 0:00:01\r\u001b[K     |█████████▎                      | 266kB 2.7MB/s eta 0:00:01\r\u001b[K     |█████████▋                      | 276kB 2.7MB/s eta 0:00:01\r\u001b[K     |██████████                      | 286kB 2.7MB/s eta 0:00:01\r\u001b[K     |██████████▎                     | 296kB 2.7MB/s eta 0:00:01\r\u001b[K     |██████████▊                     | 307kB 2.7MB/s eta 0:00:01\r\u001b[K     |███████████                     | 317kB 2.7MB/s eta 0:00:01\r\u001b[K     |███████████▍                    | 327kB 2.7MB/s eta 0:00:01\r\u001b[K     |███████████▊                    | 337kB 2.7MB/s eta 0:00:01\r\u001b[K     |████████████                    | 348kB 2.7MB/s eta 0:00:01\r\u001b[K     |████████████▌                   | 358kB 2.7MB/s eta 0:00:01\r\u001b[K     |████████████▉                   | 368kB 2.7MB/s eta 0:00:01\r\u001b[K     |█████████████▏                  | 378kB 2.7MB/s eta 0:00:01\r\u001b[K     |█████████████▌                  | 389kB 2.7MB/s eta 0:00:01\r\u001b[K     |██████████████                  | 399kB 2.7MB/s eta 0:00:01\r\u001b[K     |██████████████▎                 | 409kB 2.7MB/s eta 0:00:01\r\u001b[K     |██████████████▋                 | 419kB 2.7MB/s eta 0:00:01\r\u001b[K     |███████████████                 | 430kB 2.7MB/s eta 0:00:01\r\u001b[K     |███████████████▎                | 440kB 2.7MB/s eta 0:00:01\r\u001b[K     |███████████████▊                | 450kB 2.7MB/s eta 0:00:01\r\u001b[K     |████████████████                | 460kB 2.7MB/s eta 0:00:01\r\u001b[K     |████████████████▍               | 471kB 2.7MB/s eta 0:00:01\r\u001b[K     |████████████████▊               | 481kB 2.7MB/s eta 0:00:01\r\u001b[K     |█████████████████               | 491kB 2.7MB/s eta 0:00:01\r\u001b[K     |█████████████████▌              | 501kB 2.7MB/s eta 0:00:01\r\u001b[K     |█████████████████▉              | 512kB 2.7MB/s eta 0:00:01\r\u001b[K     |██████████████████▏             | 522kB 2.7MB/s eta 0:00:01\r\u001b[K     |██████████████████▌             | 532kB 2.7MB/s eta 0:00:01\r\u001b[K     |██████████████████▉             | 542kB 2.7MB/s eta 0:00:01\r\u001b[K     |███████████████████▎            | 552kB 2.7MB/s eta 0:00:01\r\u001b[K     |███████████████████▋            | 563kB 2.7MB/s eta 0:00:01\r\u001b[K     |████████████████████            | 573kB 2.7MB/s eta 0:00:01\r\u001b[K     |████████████████████▎           | 583kB 2.7MB/s eta 0:00:01\r\u001b[K     |████████████████████▋           | 593kB 2.7MB/s eta 0:00:01\r\u001b[K     |█████████████████████           | 604kB 2.7MB/s eta 0:00:01\r\u001b[K     |█████████████████████▍          | 614kB 2.7MB/s eta 0:00:01\r\u001b[K     |█████████████████████▊          | 624kB 2.7MB/s eta 0:00:01\r\u001b[K     |██████████████████████          | 634kB 2.7MB/s eta 0:00:01\r\u001b[K     |██████████████████████▍         | 645kB 2.7MB/s eta 0:00:01\r\u001b[K     |██████████████████████▉         | 655kB 2.7MB/s eta 0:00:01\r\u001b[K     |███████████████████████▏        | 665kB 2.7MB/s eta 0:00:01\r\u001b[K     |███████████████████████▌        | 675kB 2.7MB/s eta 0:00:01\r\u001b[K     |███████████████████████▉        | 686kB 2.7MB/s eta 0:00:01\r\u001b[K     |████████████████████████▏       | 696kB 2.7MB/s eta 0:00:01\r\u001b[K     |████████████████████████▋       | 706kB 2.7MB/s eta 0:00:01\r\u001b[K     |█████████████████████████       | 716kB 2.7MB/s eta 0:00:01\r\u001b[K     |█████████████████████████▎      | 727kB 2.7MB/s eta 0:00:01\r\u001b[K     |█████████████████████████▋      | 737kB 2.7MB/s eta 0:00:01\r\u001b[K     |██████████████████████████      | 747kB 2.7MB/s eta 0:00:01\r\u001b[K     |██████████████████████████▍     | 757kB 2.7MB/s eta 0:00:01\r\u001b[K     |██████████████████████████▊     | 768kB 2.7MB/s eta 0:00:01\r\u001b[K     |███████████████████████████     | 778kB 2.7MB/s eta 0:00:01\r\u001b[K     |███████████████████████████▍    | 788kB 2.7MB/s eta 0:00:01\r\u001b[K     |███████████████████████████▉    | 798kB 2.7MB/s eta 0:00:01\r\u001b[K     |████████████████████████████▏   | 808kB 2.7MB/s eta 0:00:01\r\u001b[K     |████████████████████████████▌   | 819kB 2.7MB/s eta 0:00:01\r\u001b[K     |████████████████████████████▉   | 829kB 2.7MB/s eta 0:00:01\r\u001b[K     |█████████████████████████████▏  | 839kB 2.7MB/s eta 0:00:01\r\u001b[K     |█████████████████████████████▋  | 849kB 2.7MB/s eta 0:00:01\r\u001b[K     |██████████████████████████████  | 860kB 2.7MB/s eta 0:00:01\r\u001b[K     |██████████████████████████████▎ | 870kB 2.7MB/s eta 0:00:01\r\u001b[K     |██████████████████████████████▋ | 880kB 2.7MB/s eta 0:00:01\r\u001b[K     |███████████████████████████████ | 890kB 2.7MB/s eta 0:00:01\r\u001b[K     |███████████████████████████████▍| 901kB 2.7MB/s eta 0:00:01\r\u001b[K     |███████████████████████████████▊| 911kB 2.7MB/s eta 0:00:01\r\u001b[K     |████████████████████████████████| 921kB 2.7MB/s \n",
            "\u001b[?25hRequirement already satisfied: pandas>=0.23.0 in /usr/local/lib/python3.6/dist-packages (from geopandas) (0.25.3)\n",
            "Requirement already satisfied: shapely in /usr/local/lib/python3.6/dist-packages (from geopandas) (1.6.4.post2)\n",
            "Collecting fiona\n",
            "\u001b[?25l  Downloading https://files.pythonhosted.org/packages/50/f7/9899f8a9a2e38601472fe1079ce5088f58833221c8b8507d8b5eafd5404a/Fiona-1.8.13-cp36-cp36m-manylinux1_x86_64.whl (11.8MB)\n",
            "\u001b[K     |████████████████████████████████| 11.8MB 202kB/s \n",
            "\u001b[?25hCollecting pyproj\n",
            "\u001b[?25l  Downloading https://files.pythonhosted.org/packages/d6/70/eedc98cd52b86de24a1589c762612a98bea26cde649ffdd60c1db396cce8/pyproj-2.4.2.post1-cp36-cp36m-manylinux2010_x86_64.whl (10.1MB)\n",
            "\u001b[K     |████████████████████████████████| 10.1MB 26.1MB/s \n",
            "\u001b[?25hRequirement already satisfied: python-dateutil>=2.6.1 in /usr/local/lib/python3.6/dist-packages (from pandas>=0.23.0->geopandas) (2.6.1)\n",
            "Requirement already satisfied: numpy>=1.13.3 in /usr/local/lib/python3.6/dist-packages (from pandas>=0.23.0->geopandas) (1.17.4)\n",
            "Requirement already satisfied: pytz>=2017.2 in /usr/local/lib/python3.6/dist-packages (from pandas>=0.23.0->geopandas) (2018.9)\n",
            "Collecting click-plugins>=1.0\n",
            "  Downloading https://files.pythonhosted.org/packages/e9/da/824b92d9942f4e472702488857914bdd50f73021efea15b4cad9aca8ecef/click_plugins-1.1.1-py2.py3-none-any.whl\n",
            "Requirement already satisfied: attrs>=17 in /usr/local/lib/python3.6/dist-packages (from fiona->geopandas) (19.3.0)\n",
            "Requirement already satisfied: six>=1.7 in /usr/local/lib/python3.6/dist-packages (from fiona->geopandas) (1.12.0)\n",
            "Collecting cligj>=0.5\n",
            "  Downloading https://files.pythonhosted.org/packages/e4/be/30a58b4b0733850280d01f8bd132591b4668ed5c7046761098d665ac2174/cligj-0.5.0-py3-none-any.whl\n",
            "Collecting munch\n",
            "  Downloading https://files.pythonhosted.org/packages/cc/ab/85d8da5c9a45e072301beb37ad7f833cd344e04c817d97e0cc75681d248f/munch-2.5.0-py2.py3-none-any.whl\n",
            "Requirement already satisfied: click<8,>=4.0 in /usr/local/lib/python3.6/dist-packages (from fiona->geopandas) (7.0)\n",
            "Installing collected packages: click-plugins, cligj, munch, fiona, pyproj, geopandas\n",
            "Successfully installed click-plugins-1.1.1 cligj-0.5.0 fiona-1.8.13 geopandas-0.6.2 munch-2.5.0 pyproj-2.4.2.post1\n"
          ],
          "name": "stdout"
        }
      ]
    },
    {
      "cell_type": "markdown",
      "metadata": {
        "id": "41LBQi87D2s-",
        "colab_type": "text"
      },
      "source": [
        "**Import Library and Load Dataset**"
      ]
    },
    {
      "cell_type": "code",
      "metadata": {
        "id": "Zat0xkMG6_We",
        "colab_type": "code",
        "colab": {}
      },
      "source": [
        "import pandas as pd\n",
        "\n",
        "import matplotlib.pyplot as plt\n",
        "from matplotlib.colors import LogNorm\n",
        "from matplotlib import cm\n",
        "\n",
        "import numpy as np\n",
        "import seaborn as sns\n",
        "\n",
        "import plotly.express as px\n",
        "\n",
        "#import geopandas as gpd # install geopandas\n",
        "#import plotly.graph_objects as go"
      ],
      "execution_count": 0,
      "outputs": []
    },
    {
      "cell_type": "markdown",
      "metadata": {
        "colab_type": "text",
        "id": "hgsQ2SCmiopv"
      },
      "source": [
        ""
      ]
    },
    {
      "cell_type": "code",
      "metadata": {
        "id": "yyQKNHzVKc4i",
        "colab_type": "code",
        "outputId": "e3c65c31-bd43-4454-b64f-5bd04761a387",
        "colab": {
          "base_uri": "https://localhost:8080/",
          "height": 604
        }
      },
      "source": [
        "data_mentalhealth = pd.read_csv(\"/content/drive/My Drive/Colab Notebooks/mental.csv\")\n",
        "data_mentalhealth\n",
        "\n",
        "# import location dataset\n",
        "#data_worldmap = pd.read_csv(\"https://raw.githubusercontent.com/plotly/datasets/master/2014_world_gdp_with_codes.csv\")"
      ],
      "execution_count": 0,
      "outputs": [
        {
          "output_type": "execute_result",
          "data": {
            "text/html": [
              "<div>\n",
              "<style scoped>\n",
              "    .dataframe tbody tr th:only-of-type {\n",
              "        vertical-align: middle;\n",
              "    }\n",
              "\n",
              "    .dataframe tbody tr th {\n",
              "        vertical-align: top;\n",
              "    }\n",
              "\n",
              "    .dataframe thead th {\n",
              "        text-align: right;\n",
              "    }\n",
              "</style>\n",
              "<table border=\"1\" class=\"dataframe\">\n",
              "  <thead>\n",
              "    <tr style=\"text-align: right;\">\n",
              "      <th></th>\n",
              "      <th>timestamp</th>\n",
              "      <th>age</th>\n",
              "      <th>gender</th>\n",
              "      <th>country</th>\n",
              "      <th>state</th>\n",
              "      <th>self_employed</th>\n",
              "      <th>family_history</th>\n",
              "      <th>treatment</th>\n",
              "      <th>work_interfere</th>\n",
              "      <th>no_employees</th>\n",
              "      <th>remote_work</th>\n",
              "      <th>tech_company</th>\n",
              "      <th>benefits</th>\n",
              "      <th>care_options</th>\n",
              "      <th>wellness_program</th>\n",
              "      <th>seek_help</th>\n",
              "      <th>anonymity</th>\n",
              "      <th>leave</th>\n",
              "      <th>mental_health_consequence</th>\n",
              "      <th>phys_health_consequence</th>\n",
              "      <th>coworkers</th>\n",
              "      <th>supervisor</th>\n",
              "      <th>mental_health_interview</th>\n",
              "      <th>phys_health_interview</th>\n",
              "      <th>mental_vs_physical</th>\n",
              "      <th>obs_consequence</th>\n",
              "      <th>comments</th>\n",
              "    </tr>\n",
              "  </thead>\n",
              "  <tbody>\n",
              "    <tr>\n",
              "      <th>0</th>\n",
              "      <td>8/27/2014 11:29</td>\n",
              "      <td>37</td>\n",
              "      <td>Female</td>\n",
              "      <td>United States</td>\n",
              "      <td>IL</td>\n",
              "      <td>NaN</td>\n",
              "      <td>No</td>\n",
              "      <td>Yes</td>\n",
              "      <td>Often</td>\n",
              "      <td>25-Jun</td>\n",
              "      <td>No</td>\n",
              "      <td>Yes</td>\n",
              "      <td>Yes</td>\n",
              "      <td>Not sure</td>\n",
              "      <td>No</td>\n",
              "      <td>Yes</td>\n",
              "      <td>Yes</td>\n",
              "      <td>Somewhat easy</td>\n",
              "      <td>No</td>\n",
              "      <td>No</td>\n",
              "      <td>Some of them</td>\n",
              "      <td>Yes</td>\n",
              "      <td>No</td>\n",
              "      <td>Maybe</td>\n",
              "      <td>Yes</td>\n",
              "      <td>No</td>\n",
              "      <td>NaN</td>\n",
              "    </tr>\n",
              "    <tr>\n",
              "      <th>1</th>\n",
              "      <td>8/27/2014 11:29</td>\n",
              "      <td>44</td>\n",
              "      <td>M</td>\n",
              "      <td>United States</td>\n",
              "      <td>IN</td>\n",
              "      <td>NaN</td>\n",
              "      <td>No</td>\n",
              "      <td>No</td>\n",
              "      <td>Rarely</td>\n",
              "      <td>More than 1000</td>\n",
              "      <td>No</td>\n",
              "      <td>No</td>\n",
              "      <td>Don't know</td>\n",
              "      <td>No</td>\n",
              "      <td>Don't know</td>\n",
              "      <td>Don't know</td>\n",
              "      <td>Don't know</td>\n",
              "      <td>Don't know</td>\n",
              "      <td>Maybe</td>\n",
              "      <td>No</td>\n",
              "      <td>No</td>\n",
              "      <td>No</td>\n",
              "      <td>No</td>\n",
              "      <td>No</td>\n",
              "      <td>Don't know</td>\n",
              "      <td>No</td>\n",
              "      <td>NaN</td>\n",
              "    </tr>\n",
              "    <tr>\n",
              "      <th>2</th>\n",
              "      <td>8/27/2014 11:29</td>\n",
              "      <td>32</td>\n",
              "      <td>Male</td>\n",
              "      <td>Canada</td>\n",
              "      <td>NaN</td>\n",
              "      <td>NaN</td>\n",
              "      <td>No</td>\n",
              "      <td>No</td>\n",
              "      <td>Rarely</td>\n",
              "      <td>25-Jun</td>\n",
              "      <td>No</td>\n",
              "      <td>Yes</td>\n",
              "      <td>No</td>\n",
              "      <td>No</td>\n",
              "      <td>No</td>\n",
              "      <td>No</td>\n",
              "      <td>Don't know</td>\n",
              "      <td>Somewhat difficult</td>\n",
              "      <td>No</td>\n",
              "      <td>No</td>\n",
              "      <td>Yes</td>\n",
              "      <td>Yes</td>\n",
              "      <td>Yes</td>\n",
              "      <td>Yes</td>\n",
              "      <td>No</td>\n",
              "      <td>No</td>\n",
              "      <td>NaN</td>\n",
              "    </tr>\n",
              "    <tr>\n",
              "      <th>3</th>\n",
              "      <td>8/27/2014 11:29</td>\n",
              "      <td>31</td>\n",
              "      <td>Male</td>\n",
              "      <td>United Kingdom</td>\n",
              "      <td>NaN</td>\n",
              "      <td>NaN</td>\n",
              "      <td>Yes</td>\n",
              "      <td>Yes</td>\n",
              "      <td>Often</td>\n",
              "      <td>26-100</td>\n",
              "      <td>No</td>\n",
              "      <td>Yes</td>\n",
              "      <td>No</td>\n",
              "      <td>Yes</td>\n",
              "      <td>No</td>\n",
              "      <td>No</td>\n",
              "      <td>No</td>\n",
              "      <td>Somewhat difficult</td>\n",
              "      <td>Yes</td>\n",
              "      <td>Yes</td>\n",
              "      <td>Some of them</td>\n",
              "      <td>No</td>\n",
              "      <td>Maybe</td>\n",
              "      <td>Maybe</td>\n",
              "      <td>No</td>\n",
              "      <td>Yes</td>\n",
              "      <td>NaN</td>\n",
              "    </tr>\n",
              "    <tr>\n",
              "      <th>4</th>\n",
              "      <td>8/27/2014 11:30</td>\n",
              "      <td>31</td>\n",
              "      <td>Male</td>\n",
              "      <td>United States</td>\n",
              "      <td>TX</td>\n",
              "      <td>NaN</td>\n",
              "      <td>No</td>\n",
              "      <td>No</td>\n",
              "      <td>Never</td>\n",
              "      <td>100-500</td>\n",
              "      <td>Yes</td>\n",
              "      <td>Yes</td>\n",
              "      <td>Yes</td>\n",
              "      <td>No</td>\n",
              "      <td>Don't know</td>\n",
              "      <td>Don't know</td>\n",
              "      <td>Don't know</td>\n",
              "      <td>Don't know</td>\n",
              "      <td>No</td>\n",
              "      <td>No</td>\n",
              "      <td>Some of them</td>\n",
              "      <td>Yes</td>\n",
              "      <td>Yes</td>\n",
              "      <td>Yes</td>\n",
              "      <td>Don't know</td>\n",
              "      <td>No</td>\n",
              "      <td>NaN</td>\n",
              "    </tr>\n",
              "    <tr>\n",
              "      <th>...</th>\n",
              "      <td>...</td>\n",
              "      <td>...</td>\n",
              "      <td>...</td>\n",
              "      <td>...</td>\n",
              "      <td>...</td>\n",
              "      <td>...</td>\n",
              "      <td>...</td>\n",
              "      <td>...</td>\n",
              "      <td>...</td>\n",
              "      <td>...</td>\n",
              "      <td>...</td>\n",
              "      <td>...</td>\n",
              "      <td>...</td>\n",
              "      <td>...</td>\n",
              "      <td>...</td>\n",
              "      <td>...</td>\n",
              "      <td>...</td>\n",
              "      <td>...</td>\n",
              "      <td>...</td>\n",
              "      <td>...</td>\n",
              "      <td>...</td>\n",
              "      <td>...</td>\n",
              "      <td>...</td>\n",
              "      <td>...</td>\n",
              "      <td>...</td>\n",
              "      <td>...</td>\n",
              "      <td>...</td>\n",
              "    </tr>\n",
              "    <tr>\n",
              "      <th>1254</th>\n",
              "      <td>9/12/2015 11:17</td>\n",
              "      <td>26</td>\n",
              "      <td>male</td>\n",
              "      <td>United Kingdom</td>\n",
              "      <td>NaN</td>\n",
              "      <td>No</td>\n",
              "      <td>No</td>\n",
              "      <td>Yes</td>\n",
              "      <td>NaN</td>\n",
              "      <td>26-100</td>\n",
              "      <td>No</td>\n",
              "      <td>Yes</td>\n",
              "      <td>No</td>\n",
              "      <td>No</td>\n",
              "      <td>No</td>\n",
              "      <td>No</td>\n",
              "      <td>Don't know</td>\n",
              "      <td>Somewhat easy</td>\n",
              "      <td>No</td>\n",
              "      <td>No</td>\n",
              "      <td>Some of them</td>\n",
              "      <td>Some of them</td>\n",
              "      <td>No</td>\n",
              "      <td>No</td>\n",
              "      <td>Don't know</td>\n",
              "      <td>No</td>\n",
              "      <td>NaN</td>\n",
              "    </tr>\n",
              "    <tr>\n",
              "      <th>1255</th>\n",
              "      <td>9/26/2015 1:07</td>\n",
              "      <td>32</td>\n",
              "      <td>Male</td>\n",
              "      <td>United States</td>\n",
              "      <td>IL</td>\n",
              "      <td>No</td>\n",
              "      <td>Yes</td>\n",
              "      <td>Yes</td>\n",
              "      <td>Often</td>\n",
              "      <td>26-100</td>\n",
              "      <td>Yes</td>\n",
              "      <td>Yes</td>\n",
              "      <td>Yes</td>\n",
              "      <td>Yes</td>\n",
              "      <td>No</td>\n",
              "      <td>No</td>\n",
              "      <td>Yes</td>\n",
              "      <td>Somewhat difficult</td>\n",
              "      <td>No</td>\n",
              "      <td>No</td>\n",
              "      <td>Some of them</td>\n",
              "      <td>Yes</td>\n",
              "      <td>No</td>\n",
              "      <td>No</td>\n",
              "      <td>Yes</td>\n",
              "      <td>No</td>\n",
              "      <td>NaN</td>\n",
              "    </tr>\n",
              "    <tr>\n",
              "      <th>1256</th>\n",
              "      <td>11/7/2015 12:36</td>\n",
              "      <td>34</td>\n",
              "      <td>male</td>\n",
              "      <td>United States</td>\n",
              "      <td>CA</td>\n",
              "      <td>No</td>\n",
              "      <td>Yes</td>\n",
              "      <td>Yes</td>\n",
              "      <td>Sometimes</td>\n",
              "      <td>More than 1000</td>\n",
              "      <td>No</td>\n",
              "      <td>Yes</td>\n",
              "      <td>Yes</td>\n",
              "      <td>Yes</td>\n",
              "      <td>No</td>\n",
              "      <td>No</td>\n",
              "      <td>Don't know</td>\n",
              "      <td>Somewhat difficult</td>\n",
              "      <td>Yes</td>\n",
              "      <td>Yes</td>\n",
              "      <td>No</td>\n",
              "      <td>No</td>\n",
              "      <td>No</td>\n",
              "      <td>No</td>\n",
              "      <td>No</td>\n",
              "      <td>No</td>\n",
              "      <td>NaN</td>\n",
              "    </tr>\n",
              "    <tr>\n",
              "      <th>1257</th>\n",
              "      <td>11/30/2015 21:25</td>\n",
              "      <td>46</td>\n",
              "      <td>f</td>\n",
              "      <td>United States</td>\n",
              "      <td>NC</td>\n",
              "      <td>No</td>\n",
              "      <td>No</td>\n",
              "      <td>No</td>\n",
              "      <td>NaN</td>\n",
              "      <td>100-500</td>\n",
              "      <td>Yes</td>\n",
              "      <td>Yes</td>\n",
              "      <td>No</td>\n",
              "      <td>Yes</td>\n",
              "      <td>No</td>\n",
              "      <td>No</td>\n",
              "      <td>Don't know</td>\n",
              "      <td>Don't know</td>\n",
              "      <td>Yes</td>\n",
              "      <td>No</td>\n",
              "      <td>No</td>\n",
              "      <td>No</td>\n",
              "      <td>No</td>\n",
              "      <td>No</td>\n",
              "      <td>No</td>\n",
              "      <td>No</td>\n",
              "      <td>NaN</td>\n",
              "    </tr>\n",
              "    <tr>\n",
              "      <th>1258</th>\n",
              "      <td>2/1/2016 23:04</td>\n",
              "      <td>25</td>\n",
              "      <td>Male</td>\n",
              "      <td>United States</td>\n",
              "      <td>IL</td>\n",
              "      <td>No</td>\n",
              "      <td>Yes</td>\n",
              "      <td>Yes</td>\n",
              "      <td>Sometimes</td>\n",
              "      <td>26-100</td>\n",
              "      <td>No</td>\n",
              "      <td>No</td>\n",
              "      <td>Yes</td>\n",
              "      <td>Yes</td>\n",
              "      <td>No</td>\n",
              "      <td>No</td>\n",
              "      <td>Yes</td>\n",
              "      <td>Don't know</td>\n",
              "      <td>Maybe</td>\n",
              "      <td>No</td>\n",
              "      <td>Some of them</td>\n",
              "      <td>No</td>\n",
              "      <td>No</td>\n",
              "      <td>No</td>\n",
              "      <td>Don't know</td>\n",
              "      <td>No</td>\n",
              "      <td>NaN</td>\n",
              "    </tr>\n",
              "  </tbody>\n",
              "</table>\n",
              "<p>1259 rows × 27 columns</p>\n",
              "</div>"
            ],
            "text/plain": [
              "             timestamp  age  gender  ... mental_vs_physical obs_consequence comments\n",
              "0      8/27/2014 11:29   37  Female  ...                Yes              No      NaN\n",
              "1      8/27/2014 11:29   44       M  ...         Don't know              No      NaN\n",
              "2      8/27/2014 11:29   32    Male  ...                 No              No      NaN\n",
              "3      8/27/2014 11:29   31    Male  ...                 No             Yes      NaN\n",
              "4      8/27/2014 11:30   31    Male  ...         Don't know              No      NaN\n",
              "...                ...  ...     ...  ...                ...             ...      ...\n",
              "1254   9/12/2015 11:17   26    male  ...         Don't know              No      NaN\n",
              "1255    9/26/2015 1:07   32    Male  ...                Yes              No      NaN\n",
              "1256   11/7/2015 12:36   34    male  ...                 No              No      NaN\n",
              "1257  11/30/2015 21:25   46       f  ...                 No              No      NaN\n",
              "1258    2/1/2016 23:04   25    Male  ...         Don't know              No      NaN\n",
              "\n",
              "[1259 rows x 27 columns]"
            ]
          },
          "metadata": {
            "tags": []
          },
          "execution_count": 6
        }
      ]
    },
    {
      "cell_type": "code",
      "metadata": {
        "id": "ofSon-D-oK1E",
        "colab_type": "code",
        "colab": {}
      },
      "source": [
        "# sns.catplot(x='self_employed', hue='remote_work', col='tech_company', kind='count', data=data_mentalhealth)"
      ],
      "execution_count": 0,
      "outputs": []
    },
    {
      "cell_type": "markdown",
      "metadata": {
        "id": "QcC7sZhI7gkB",
        "colab_type": "text"
      },
      "source": [
        "**Pra-Processing Data**"
      ]
    },
    {
      "cell_type": "markdown",
      "metadata": {
        "id": "ZjpBaluU78U6",
        "colab_type": "text"
      },
      "source": [
        "    Cleaning NaN"
      ]
    },
    {
      "cell_type": "code",
      "metadata": {
        "id": "sy83NJcm8DEs",
        "colab_type": "code",
        "outputId": "9382e542-49dc-456d-c967-37ec60de22bf",
        "colab": {
          "base_uri": "https://localhost:8080/",
          "height": 408
        }
      },
      "source": [
        "# Assign default values for each data type\n",
        "defaultInt = 0\n",
        "defaultString = 'NaN'\n",
        "defaultFloat = 0.0\n",
        "\n",
        "intColumn = ['Age']\n",
        "stringColumn = ['gender', 'country', 'self_employed', 'family_history', 'treatment', 'work_interfere',\n",
        "                 'no_employees', 'remote_work', 'tech_company', 'anonymity', 'leave', 'mental_health_consequence',\n",
        "                 'phys_health_consequence', 'coworkers', 'supervisor', 'mental_health_interview', 'phys_health_interview',\n",
        "                 'mental_vs_physical', 'obs_consequence', 'benefits', 'care_options', 'wellness_program',\n",
        "                 'seek_help']\n",
        "floatColumn = []\n",
        "\n",
        "# Clean the NaN's\n",
        "for feature in data_mentalhealth:\n",
        "    if feature in intColumn:\n",
        "        data_mentalhealth[feature] = data_mentalhealth[feature].fillna(defaultInt)\n",
        "    elif feature in stringColumn:\n",
        "        data_mentalhealth[feature] = data_mentalhealth[feature].fillna(defaultString)\n",
        "    elif feature in floatColumn:\n",
        "        data_mentalhealth[feature] = data_mentalhealth[feature].fillna(defaultFloat)\n",
        "    else:\n",
        "        print('Error: Feature %s not recognized.' % feature)\n",
        "        \n",
        "data_mentalhealth.head(5)"
      ],
      "execution_count": 0,
      "outputs": [
        {
          "output_type": "stream",
          "text": [
            "Error: Feature timestamp not recognized.\n",
            "Error: Feature age not recognized.\n",
            "Error: Feature gender not recognized.\n",
            "Error: Feature country not recognized.\n",
            "Error: Feature state not recognized.\n",
            "Error: Feature comments not recognized.\n"
          ],
          "name": "stdout"
        },
        {
          "output_type": "execute_result",
          "data": {
            "text/html": [
              "<div>\n",
              "<style scoped>\n",
              "    .dataframe tbody tr th:only-of-type {\n",
              "        vertical-align: middle;\n",
              "    }\n",
              "\n",
              "    .dataframe tbody tr th {\n",
              "        vertical-align: top;\n",
              "    }\n",
              "\n",
              "    .dataframe thead th {\n",
              "        text-align: right;\n",
              "    }\n",
              "</style>\n",
              "<table border=\"1\" class=\"dataframe\">\n",
              "  <thead>\n",
              "    <tr style=\"text-align: right;\">\n",
              "      <th></th>\n",
              "      <th>timestamp</th>\n",
              "      <th>age</th>\n",
              "      <th>gender</th>\n",
              "      <th>country</th>\n",
              "      <th>state</th>\n",
              "      <th>self_employed</th>\n",
              "      <th>family_history</th>\n",
              "      <th>treatment</th>\n",
              "      <th>work_interfere</th>\n",
              "      <th>no_employees</th>\n",
              "      <th>remote_work</th>\n",
              "      <th>tech_company</th>\n",
              "      <th>benefits</th>\n",
              "      <th>care_options</th>\n",
              "      <th>wellness_program</th>\n",
              "      <th>seek_help</th>\n",
              "      <th>anonymity</th>\n",
              "      <th>leave</th>\n",
              "      <th>mental_health_consequence</th>\n",
              "      <th>phys_health_consequence</th>\n",
              "      <th>coworkers</th>\n",
              "      <th>supervisor</th>\n",
              "      <th>mental_health_interview</th>\n",
              "      <th>phys_health_interview</th>\n",
              "      <th>mental_vs_physical</th>\n",
              "      <th>obs_consequence</th>\n",
              "      <th>comments</th>\n",
              "    </tr>\n",
              "  </thead>\n",
              "  <tbody>\n",
              "    <tr>\n",
              "      <th>0</th>\n",
              "      <td>8/27/2014 11:29</td>\n",
              "      <td>37</td>\n",
              "      <td>Female</td>\n",
              "      <td>United States</td>\n",
              "      <td>IL</td>\n",
              "      <td>NaN</td>\n",
              "      <td>No</td>\n",
              "      <td>Yes</td>\n",
              "      <td>Often</td>\n",
              "      <td>25-Jun</td>\n",
              "      <td>No</td>\n",
              "      <td>Yes</td>\n",
              "      <td>Yes</td>\n",
              "      <td>Not sure</td>\n",
              "      <td>No</td>\n",
              "      <td>Yes</td>\n",
              "      <td>Yes</td>\n",
              "      <td>Somewhat easy</td>\n",
              "      <td>No</td>\n",
              "      <td>No</td>\n",
              "      <td>Some of them</td>\n",
              "      <td>Yes</td>\n",
              "      <td>No</td>\n",
              "      <td>Maybe</td>\n",
              "      <td>Yes</td>\n",
              "      <td>No</td>\n",
              "      <td>NaN</td>\n",
              "    </tr>\n",
              "    <tr>\n",
              "      <th>1</th>\n",
              "      <td>8/27/2014 11:29</td>\n",
              "      <td>44</td>\n",
              "      <td>M</td>\n",
              "      <td>United States</td>\n",
              "      <td>IN</td>\n",
              "      <td>NaN</td>\n",
              "      <td>No</td>\n",
              "      <td>No</td>\n",
              "      <td>Rarely</td>\n",
              "      <td>More than 1000</td>\n",
              "      <td>No</td>\n",
              "      <td>No</td>\n",
              "      <td>Don't know</td>\n",
              "      <td>No</td>\n",
              "      <td>Don't know</td>\n",
              "      <td>Don't know</td>\n",
              "      <td>Don't know</td>\n",
              "      <td>Don't know</td>\n",
              "      <td>Maybe</td>\n",
              "      <td>No</td>\n",
              "      <td>No</td>\n",
              "      <td>No</td>\n",
              "      <td>No</td>\n",
              "      <td>No</td>\n",
              "      <td>Don't know</td>\n",
              "      <td>No</td>\n",
              "      <td>NaN</td>\n",
              "    </tr>\n",
              "    <tr>\n",
              "      <th>2</th>\n",
              "      <td>8/27/2014 11:29</td>\n",
              "      <td>32</td>\n",
              "      <td>Male</td>\n",
              "      <td>Canada</td>\n",
              "      <td>NaN</td>\n",
              "      <td>NaN</td>\n",
              "      <td>No</td>\n",
              "      <td>No</td>\n",
              "      <td>Rarely</td>\n",
              "      <td>25-Jun</td>\n",
              "      <td>No</td>\n",
              "      <td>Yes</td>\n",
              "      <td>No</td>\n",
              "      <td>No</td>\n",
              "      <td>No</td>\n",
              "      <td>No</td>\n",
              "      <td>Don't know</td>\n",
              "      <td>Somewhat difficult</td>\n",
              "      <td>No</td>\n",
              "      <td>No</td>\n",
              "      <td>Yes</td>\n",
              "      <td>Yes</td>\n",
              "      <td>Yes</td>\n",
              "      <td>Yes</td>\n",
              "      <td>No</td>\n",
              "      <td>No</td>\n",
              "      <td>NaN</td>\n",
              "    </tr>\n",
              "    <tr>\n",
              "      <th>3</th>\n",
              "      <td>8/27/2014 11:29</td>\n",
              "      <td>31</td>\n",
              "      <td>Male</td>\n",
              "      <td>United Kingdom</td>\n",
              "      <td>NaN</td>\n",
              "      <td>NaN</td>\n",
              "      <td>Yes</td>\n",
              "      <td>Yes</td>\n",
              "      <td>Often</td>\n",
              "      <td>26-100</td>\n",
              "      <td>No</td>\n",
              "      <td>Yes</td>\n",
              "      <td>No</td>\n",
              "      <td>Yes</td>\n",
              "      <td>No</td>\n",
              "      <td>No</td>\n",
              "      <td>No</td>\n",
              "      <td>Somewhat difficult</td>\n",
              "      <td>Yes</td>\n",
              "      <td>Yes</td>\n",
              "      <td>Some of them</td>\n",
              "      <td>No</td>\n",
              "      <td>Maybe</td>\n",
              "      <td>Maybe</td>\n",
              "      <td>No</td>\n",
              "      <td>Yes</td>\n",
              "      <td>NaN</td>\n",
              "    </tr>\n",
              "    <tr>\n",
              "      <th>4</th>\n",
              "      <td>8/27/2014 11:30</td>\n",
              "      <td>31</td>\n",
              "      <td>Male</td>\n",
              "      <td>United States</td>\n",
              "      <td>TX</td>\n",
              "      <td>NaN</td>\n",
              "      <td>No</td>\n",
              "      <td>No</td>\n",
              "      <td>Never</td>\n",
              "      <td>100-500</td>\n",
              "      <td>Yes</td>\n",
              "      <td>Yes</td>\n",
              "      <td>Yes</td>\n",
              "      <td>No</td>\n",
              "      <td>Don't know</td>\n",
              "      <td>Don't know</td>\n",
              "      <td>Don't know</td>\n",
              "      <td>Don't know</td>\n",
              "      <td>No</td>\n",
              "      <td>No</td>\n",
              "      <td>Some of them</td>\n",
              "      <td>Yes</td>\n",
              "      <td>Yes</td>\n",
              "      <td>Yes</td>\n",
              "      <td>Don't know</td>\n",
              "      <td>No</td>\n",
              "      <td>NaN</td>\n",
              "    </tr>\n",
              "  </tbody>\n",
              "</table>\n",
              "</div>"
            ],
            "text/plain": [
              "         timestamp  age  gender  ... mental_vs_physical obs_consequence comments\n",
              "0  8/27/2014 11:29   37  Female  ...                Yes              No      NaN\n",
              "1  8/27/2014 11:29   44       M  ...         Don't know              No      NaN\n",
              "2  8/27/2014 11:29   32    Male  ...                 No              No      NaN\n",
              "3  8/27/2014 11:29   31    Male  ...                 No             Yes      NaN\n",
              "4  8/27/2014 11:30   31    Male  ...         Don't know              No      NaN\n",
              "\n",
              "[5 rows x 27 columns]"
            ]
          },
          "metadata": {
            "tags": []
          },
          "execution_count": 7
        }
      ]
    },
    {
      "cell_type": "markdown",
      "metadata": {
        "id": "9jgb9JjK8SKv",
        "colab_type": "text"
      },
      "source": [
        "    Cleaning gender NaN"
      ]
    },
    {
      "cell_type": "code",
      "metadata": {
        "id": "cdw3o83G8Q2e",
        "colab_type": "code",
        "colab": {}
      },
      "source": [
        "#Made gender groups\n",
        "male = [\"male\", \"m\", \"male-ish\", \"maile\", \"mal\", \"male (cis)\", \"make\", \"male \", \"man\",\"msle\", \"mail\", \"malr\",\"cis man\", \"Cis Male\", \"cis male\"]\n",
        "transgender = [\"trans-female\", \"something kinda male?\", \"queer/she/they\", \"non-binary\",\"nah\", \"all\", \"enby\", \"fluid\", \"genderqueer\", \"androgyne\", \"agender\", \"male leaning androgynous\", \"guy (-ish) ^_^\", \"trans woman\", \"neuter\", \"female (trans)\", \"queer\", \"ostensibly male, unsure what that really means\"]           \n",
        "female = [\"cis female\", \"f\", \"female\", \"woman\",  \"femake\", \"female \",\"cis-female/femme\", \"female (cis)\", \"femail\"]\n",
        "\n",
        "for (row, col) in data_mentalhealth.iterrows():\n",
        "\n",
        "    if str.lower(col.gender) in male:\n",
        "        data_mentalhealth['gender'].replace(to_replace=col.gender, value='male', inplace=True)\n",
        "\n",
        "    if str.lower(col.gender) in female:\n",
        "        data_mentalhealth['gender'].replace(to_replace=col.gender, value='female', inplace=True)\n",
        "\n",
        "    if str.lower(col.gender) in transgender:\n",
        "        data_mentalhealth['gender'].replace(to_replace=col.gender, value='transgender', inplace=True)\n",
        "\n",
        "#Get rid of bullshit\n",
        "stk_list = ['A little about you', 'p']\n",
        "data_mentalhealth = data_mentalhealth[~data_mentalhealth['gender'].isin(stk_list)]"
      ],
      "execution_count": 0,
      "outputs": []
    },
    {
      "cell_type": "markdown",
      "metadata": {
        "id": "bBWrkniGFICX",
        "colab_type": "text"
      },
      "source": [
        "    Complete NaN age with mean"
      ]
    },
    {
      "cell_type": "code",
      "metadata": {
        "id": "9RAtXNYA8jny",
        "colab_type": "code",
        "outputId": "a9ff62e4-5fc9-4071-cff1-dd8804c4ddb5",
        "colab": {
          "base_uri": "https://localhost:8080/",
          "height": 155
        }
      },
      "source": [
        "data_mentalhealth['age'].fillna(data_mentalhealth['age'].median(), inplace = True)"
      ],
      "execution_count": 0,
      "outputs": [
        {
          "output_type": "stream",
          "text": [
            "/usr/local/lib/python3.6/dist-packages/pandas/core/generic.py:6287: SettingWithCopyWarning:\n",
            "\n",
            "\n",
            "A value is trying to be set on a copy of a slice from a DataFrame\n",
            "\n",
            "See the caveats in the documentation: http://pandas.pydata.org/pandas-docs/stable/user_guide/indexing.html#returning-a-view-versus-a-copy\n",
            "\n"
          ],
          "name": "stderr"
        }
      ]
    },
    {
      "cell_type": "markdown",
      "metadata": {
        "id": "ncCTV3RqFRFL",
        "colab_type": "text"
      },
      "source": [
        "    There are only 0.014% of self employed so let's change NaN to NOT self_employed\n",
        "    Replace \"NaN\" string from defaultString"
      ]
    },
    {
      "cell_type": "code",
      "metadata": {
        "id": "150qt4Pb7fVb",
        "colab_type": "code",
        "colab": {}
      },
      "source": [
        "data_mentalhealth['self_employed'] = data_mentalhealth['self_employed'].replace([defaultString], 'No')\n",
        "#print(data_mentalhealth['self_employed'].unique())"
      ],
      "execution_count": 0,
      "outputs": []
    },
    {
      "cell_type": "markdown",
      "metadata": {
        "id": "AdfQRH9jFXso",
        "colab_type": "text"
      },
      "source": [
        "    There are only 0.20% of self work_interfere so let's change NaN to \"Don't know\n",
        "    Replace \"NaN\" string from defaultString"
      ]
    },
    {
      "cell_type": "code",
      "metadata": {
        "id": "52hVxrKn83Uz",
        "colab_type": "code",
        "colab": {}
      },
      "source": [
        "data_mentalhealth['work_interfere'] = data_mentalhealth['work_interfere'].replace([defaultString], 'Don\\'t know' )\n",
        "#print(data_mentalhealth['work_interfere'].unique())"
      ],
      "execution_count": 0,
      "outputs": []
    },
    {
      "cell_type": "markdown",
      "metadata": {
        "id": "n4LHAC1p18ll",
        "colab_type": "text"
      },
      "source": [
        "**1. Apakah penyakit kesehatan mental lebih sering terjadi pada pekerja IT dibandingkan dengan yang non-IT?**"
      ]
    },
    {
      "cell_type": "code",
      "metadata": {
        "id": "VLeuHLQZGbKU",
        "colab_type": "code",
        "outputId": "605d5a12-8f01-4da9-d05a-8f0d06955da9",
        "colab": {
          "base_uri": "https://localhost:8080/",
          "height": 196
        }
      },
      "source": [
        "# mengelompokkan responden berdasarkan background\n",
        "respondent_data_bg = data_mentalhealth.groupby('tech_company').count()\n",
        "respondent_data_bg = respondent_data_bg.rename(index={'No': 'Perusahan Non IT', 'Yes': 'Perusahaan IT'})\n",
        "respondent_data_bg"
      ],
      "execution_count": 0,
      "outputs": [
        {
          "output_type": "execute_result",
          "data": {
            "text/html": [
              "<div>\n",
              "<style scoped>\n",
              "    .dataframe tbody tr th:only-of-type {\n",
              "        vertical-align: middle;\n",
              "    }\n",
              "\n",
              "    .dataframe tbody tr th {\n",
              "        vertical-align: top;\n",
              "    }\n",
              "\n",
              "    .dataframe thead th {\n",
              "        text-align: right;\n",
              "    }\n",
              "</style>\n",
              "<table border=\"1\" class=\"dataframe\">\n",
              "  <thead>\n",
              "    <tr style=\"text-align: right;\">\n",
              "      <th></th>\n",
              "      <th>Timestamp</th>\n",
              "      <th>Age</th>\n",
              "      <th>Gender</th>\n",
              "      <th>Country</th>\n",
              "      <th>state</th>\n",
              "      <th>self_employed</th>\n",
              "      <th>family_history</th>\n",
              "      <th>treatment</th>\n",
              "      <th>work_interfere</th>\n",
              "      <th>no_employees</th>\n",
              "      <th>remote_work</th>\n",
              "      <th>benefits</th>\n",
              "      <th>care_options</th>\n",
              "      <th>wellness_program</th>\n",
              "      <th>seek_help</th>\n",
              "      <th>anonymity</th>\n",
              "      <th>leave</th>\n",
              "      <th>mental_health_consequence</th>\n",
              "      <th>phys_health_consequence</th>\n",
              "      <th>coworkers</th>\n",
              "      <th>supervisor</th>\n",
              "      <th>mental_health_interview</th>\n",
              "      <th>phys_health_interview</th>\n",
              "      <th>mental_vs_physical</th>\n",
              "      <th>obs_consequence</th>\n",
              "      <th>comments</th>\n",
              "    </tr>\n",
              "    <tr>\n",
              "      <th>tech_company</th>\n",
              "      <th></th>\n",
              "      <th></th>\n",
              "      <th></th>\n",
              "      <th></th>\n",
              "      <th></th>\n",
              "      <th></th>\n",
              "      <th></th>\n",
              "      <th></th>\n",
              "      <th></th>\n",
              "      <th></th>\n",
              "      <th></th>\n",
              "      <th></th>\n",
              "      <th></th>\n",
              "      <th></th>\n",
              "      <th></th>\n",
              "      <th></th>\n",
              "      <th></th>\n",
              "      <th></th>\n",
              "      <th></th>\n",
              "      <th></th>\n",
              "      <th></th>\n",
              "      <th></th>\n",
              "      <th></th>\n",
              "      <th></th>\n",
              "      <th></th>\n",
              "      <th></th>\n",
              "    </tr>\n",
              "  </thead>\n",
              "  <tbody>\n",
              "    <tr>\n",
              "      <th>Perusahan Non IT</th>\n",
              "      <td>228</td>\n",
              "      <td>228</td>\n",
              "      <td>228</td>\n",
              "      <td>228</td>\n",
              "      <td>139</td>\n",
              "      <td>228</td>\n",
              "      <td>228</td>\n",
              "      <td>228</td>\n",
              "      <td>228</td>\n",
              "      <td>228</td>\n",
              "      <td>228</td>\n",
              "      <td>228</td>\n",
              "      <td>228</td>\n",
              "      <td>228</td>\n",
              "      <td>228</td>\n",
              "      <td>228</td>\n",
              "      <td>228</td>\n",
              "      <td>228</td>\n",
              "      <td>228</td>\n",
              "      <td>228</td>\n",
              "      <td>228</td>\n",
              "      <td>228</td>\n",
              "      <td>228</td>\n",
              "      <td>228</td>\n",
              "      <td>228</td>\n",
              "      <td>30</td>\n",
              "    </tr>\n",
              "    <tr>\n",
              "      <th>Perusahaan IT</th>\n",
              "      <td>1029</td>\n",
              "      <td>1029</td>\n",
              "      <td>1029</td>\n",
              "      <td>1029</td>\n",
              "      <td>603</td>\n",
              "      <td>1029</td>\n",
              "      <td>1029</td>\n",
              "      <td>1029</td>\n",
              "      <td>1029</td>\n",
              "      <td>1029</td>\n",
              "      <td>1029</td>\n",
              "      <td>1029</td>\n",
              "      <td>1029</td>\n",
              "      <td>1029</td>\n",
              "      <td>1029</td>\n",
              "      <td>1029</td>\n",
              "      <td>1029</td>\n",
              "      <td>1029</td>\n",
              "      <td>1029</td>\n",
              "      <td>1029</td>\n",
              "      <td>1029</td>\n",
              "      <td>1029</td>\n",
              "      <td>1029</td>\n",
              "      <td>1029</td>\n",
              "      <td>1029</td>\n",
              "      <td>132</td>\n",
              "    </tr>\n",
              "  </tbody>\n",
              "</table>\n",
              "</div>"
            ],
            "text/plain": [
              "                  Timestamp   Age  ...  obs_consequence  comments\n",
              "tech_company                       ...                           \n",
              "Perusahan Non IT        228   228  ...              228        30\n",
              "Perusahaan IT          1029  1029  ...             1029       132\n",
              "\n",
              "[2 rows x 26 columns]"
            ]
          },
          "metadata": {
            "tags": []
          },
          "execution_count": 83
        }
      ]
    },
    {
      "cell_type": "code",
      "metadata": {
        "id": "ElMscPT0BREz",
        "colab_type": "code",
        "outputId": "e20db97a-5900-4012-b984-eeadf9533a2d",
        "colab": {
          "base_uri": "https://localhost:8080/",
          "height": 264
        }
      },
      "source": [
        "# visualtization\n",
        "plt.pie(\n",
        "      respondent_data_bg['treatment'],  # data\n",
        "      labels=respondent_data_bg.index, # give label\n",
        "      startangle=90, \n",
        "      autopct='%.2f%%', # set format value of label\n",
        "      explode=(0.2, 0.1) # supaya mencar satu\n",
        ")\n",
        "plt.title('Background Pekerjaan Responden')\n",
        "plt.show()"
      ],
      "execution_count": 0,
      "outputs": [
        {
          "output_type": "display_data",
          "data": {
            "image/png": "[encoded data removed]",
            "text/plain": [
              "<Figure size 432x288 with 1 Axes>"
            ]
          },
          "metadata": {
            "tags": []
          }
        }
      ]
    },
    {
      "cell_type": "code",
      "metadata": {
        "id": "BuY9_sMjJg0E",
        "colab_type": "code",
        "outputId": "8c0ee720-23f1-407b-acf9-0f7f68b68553",
        "colab": {
          "base_uri": "https://localhost:8080/",
          "height": 213
        }
      },
      "source": [
        "# mengelompokkan data berdasar butuh treatment ato nggak\n",
        "respondent_data_needtreatment = data_mentalhealth.groupby('treatment').count()\n",
        "respondent_data_needtreatment = respondent_data_needtreatment.rename(index={'No': 'Tidak butuh \\'Treatment\\'', 'Yes': 'Butuh \\'Treatment\\''})\n",
        "respondent_data_needtreatment"
      ],
      "execution_count": 0,
      "outputs": [
        {
          "output_type": "execute_result",
          "data": {
            "text/html": [
              "<div>\n",
              "<style scoped>\n",
              "    .dataframe tbody tr th:only-of-type {\n",
              "        vertical-align: middle;\n",
              "    }\n",
              "\n",
              "    .dataframe tbody tr th {\n",
              "        vertical-align: top;\n",
              "    }\n",
              "\n",
              "    .dataframe thead th {\n",
              "        text-align: right;\n",
              "    }\n",
              "</style>\n",
              "<table border=\"1\" class=\"dataframe\">\n",
              "  <thead>\n",
              "    <tr style=\"text-align: right;\">\n",
              "      <th></th>\n",
              "      <th>Timestamp</th>\n",
              "      <th>Age</th>\n",
              "      <th>Gender</th>\n",
              "      <th>Country</th>\n",
              "      <th>state</th>\n",
              "      <th>self_employed</th>\n",
              "      <th>family_history</th>\n",
              "      <th>work_interfere</th>\n",
              "      <th>no_employees</th>\n",
              "      <th>remote_work</th>\n",
              "      <th>tech_company</th>\n",
              "      <th>benefits</th>\n",
              "      <th>care_options</th>\n",
              "      <th>wellness_program</th>\n",
              "      <th>seek_help</th>\n",
              "      <th>anonymity</th>\n",
              "      <th>leave</th>\n",
              "      <th>mental_health_consequence</th>\n",
              "      <th>phys_health_consequence</th>\n",
              "      <th>coworkers</th>\n",
              "      <th>supervisor</th>\n",
              "      <th>mental_health_interview</th>\n",
              "      <th>phys_health_interview</th>\n",
              "      <th>mental_vs_physical</th>\n",
              "      <th>obs_consequence</th>\n",
              "      <th>comments</th>\n",
              "    </tr>\n",
              "    <tr>\n",
              "      <th>treatment</th>\n",
              "      <th></th>\n",
              "      <th></th>\n",
              "      <th></th>\n",
              "      <th></th>\n",
              "      <th></th>\n",
              "      <th></th>\n",
              "      <th></th>\n",
              "      <th></th>\n",
              "      <th></th>\n",
              "      <th></th>\n",
              "      <th></th>\n",
              "      <th></th>\n",
              "      <th></th>\n",
              "      <th></th>\n",
              "      <th></th>\n",
              "      <th></th>\n",
              "      <th></th>\n",
              "      <th></th>\n",
              "      <th></th>\n",
              "      <th></th>\n",
              "      <th></th>\n",
              "      <th></th>\n",
              "      <th></th>\n",
              "      <th></th>\n",
              "      <th></th>\n",
              "      <th></th>\n",
              "    </tr>\n",
              "  </thead>\n",
              "  <tbody>\n",
              "    <tr>\n",
              "      <th>Tidak butuh 'Treatment'</th>\n",
              "      <td>622</td>\n",
              "      <td>622</td>\n",
              "      <td>622</td>\n",
              "      <td>622</td>\n",
              "      <td>337</td>\n",
              "      <td>622</td>\n",
              "      <td>622</td>\n",
              "      <td>622</td>\n",
              "      <td>622</td>\n",
              "      <td>622</td>\n",
              "      <td>622</td>\n",
              "      <td>622</td>\n",
              "      <td>622</td>\n",
              "      <td>622</td>\n",
              "      <td>622</td>\n",
              "      <td>622</td>\n",
              "      <td>622</td>\n",
              "      <td>622</td>\n",
              "      <td>622</td>\n",
              "      <td>622</td>\n",
              "      <td>622</td>\n",
              "      <td>622</td>\n",
              "      <td>622</td>\n",
              "      <td>622</td>\n",
              "      <td>622</td>\n",
              "      <td>58</td>\n",
              "    </tr>\n",
              "    <tr>\n",
              "      <th>Butuh 'Treatment'</th>\n",
              "      <td>635</td>\n",
              "      <td>635</td>\n",
              "      <td>635</td>\n",
              "      <td>635</td>\n",
              "      <td>405</td>\n",
              "      <td>635</td>\n",
              "      <td>635</td>\n",
              "      <td>635</td>\n",
              "      <td>635</td>\n",
              "      <td>635</td>\n",
              "      <td>635</td>\n",
              "      <td>635</td>\n",
              "      <td>635</td>\n",
              "      <td>635</td>\n",
              "      <td>635</td>\n",
              "      <td>635</td>\n",
              "      <td>635</td>\n",
              "      <td>635</td>\n",
              "      <td>635</td>\n",
              "      <td>635</td>\n",
              "      <td>635</td>\n",
              "      <td>635</td>\n",
              "      <td>635</td>\n",
              "      <td>635</td>\n",
              "      <td>635</td>\n",
              "      <td>104</td>\n",
              "    </tr>\n",
              "  </tbody>\n",
              "</table>\n",
              "</div>"
            ],
            "text/plain": [
              "                         Timestamp  Age  ...  obs_consequence  comments\n",
              "treatment                                ...                           \n",
              "Tidak butuh 'Treatment'        622  622  ...              622        58\n",
              "Butuh 'Treatment'              635  635  ...              635       104\n",
              "\n",
              "[2 rows x 26 columns]"
            ]
          },
          "metadata": {
            "tags": []
          },
          "execution_count": 85
        }
      ]
    },
    {
      "cell_type": "code",
      "metadata": {
        "id": "YZWvh1rVUQOa",
        "colab_type": "code",
        "outputId": "24a7baa5-414b-4e19-f7ac-9cbed65a2379",
        "colab": {
          "base_uri": "https://localhost:8080/",
          "height": 142
        }
      },
      "source": [
        "worker_data = data_mentalhealth.groupby('treatment').apply(\n",
        "                              lambda x: pd.Series(\n",
        "                                  dict(\n",
        "                                    non_techcompany_worker=(x.tech_company == 'Yes').sum(),\n",
        "                                    techcompany_worker=(x.tech_company == 'No').sum()\n",
        "                                )\n",
        "                              )\n",
        "                          )\n",
        "worker_data = worker_data.rename(index={'No': 'Tidak butuh', 'Yes': 'Butuh'})\n",
        "worker_data"
      ],
      "execution_count": 0,
      "outputs": [
        {
          "output_type": "execute_result",
          "data": {
            "text/html": [
              "<div>\n",
              "<style scoped>\n",
              "    .dataframe tbody tr th:only-of-type {\n",
              "        vertical-align: middle;\n",
              "    }\n",
              "\n",
              "    .dataframe tbody tr th {\n",
              "        vertical-align: top;\n",
              "    }\n",
              "\n",
              "    .dataframe thead th {\n",
              "        text-align: right;\n",
              "    }\n",
              "</style>\n",
              "<table border=\"1\" class=\"dataframe\">\n",
              "  <thead>\n",
              "    <tr style=\"text-align: right;\">\n",
              "      <th></th>\n",
              "      <th>non_techcompany_worker</th>\n",
              "      <th>techcompany_worker</th>\n",
              "    </tr>\n",
              "    <tr>\n",
              "      <th>treatment</th>\n",
              "      <th></th>\n",
              "      <th></th>\n",
              "    </tr>\n",
              "  </thead>\n",
              "  <tbody>\n",
              "    <tr>\n",
              "      <th>Tidak butuh</th>\n",
              "      <td>517</td>\n",
              "      <td>105</td>\n",
              "    </tr>\n",
              "    <tr>\n",
              "      <th>Butuh</th>\n",
              "      <td>512</td>\n",
              "      <td>123</td>\n",
              "    </tr>\n",
              "  </tbody>\n",
              "</table>\n",
              "</div>"
            ],
            "text/plain": [
              "             non_techcompany_worker  techcompany_worker\n",
              "treatment                                              \n",
              "Tidak butuh                     517                 105\n",
              "Butuh                           512                 123"
            ]
          },
          "metadata": {
            "tags": []
          },
          "execution_count": 87
        }
      ]
    },
    {
      "cell_type": "code",
      "metadata": {
        "id": "a1OUxnAzUwBz",
        "colab_type": "code",
        "outputId": "df30d5cb-be6e-490e-e9f2-3508407a6a4d",
        "colab": {
          "base_uri": "https://localhost:8080/",
          "height": 264
        }
      },
      "source": [
        "plt.pie(\n",
        "      worker_data['techcompany_worker'],  # data\n",
        "      labels=worker_data.index, # give label\n",
        "      startangle=90, \n",
        "      autopct='%.2f%%', # set format value of label\n",
        ")\n",
        "plt.title('Kebutuhan Perawatan Kesehatan Mental di Pekerja Perusahaan IT')\n",
        "plt.show()"
      ],
      "execution_count": 0,
      "outputs": [
        {
          "output_type": "display_data",
          "data": {
            "image/png": "[encoded data removed]",
            "text/plain": [
              "<Figure size 432x288 with 1 Axes>"
            ]
          },
          "metadata": {
            "tags": []
          }
        }
      ]
    },
    {
      "cell_type": "code",
      "metadata": {
        "id": "ZqYldgHmV-kh",
        "colab_type": "code",
        "outputId": "9f9e1a6c-c00e-46fc-bd63-5a3d97843174",
        "colab": {
          "base_uri": "https://localhost:8080/",
          "height": 264
        }
      },
      "source": [
        "plt.pie(\n",
        "      worker_data['non_techcompany_worker'],  # data\n",
        "      labels=worker_data.index, # give label\n",
        "      startangle=90, \n",
        "      autopct='%.2f%%', # set format value of label\n",
        ")\n",
        "plt.title('Kebutuhan Perawatan Kesehatan Mental di Pekerja Perusahaan Non IT')\n",
        "plt.show()"
      ],
      "execution_count": 0,
      "outputs": [
        {
          "output_type": "display_data",
          "data": {
            "image/png": "[encoded data removed]",
            "text/plain": [
              "<Figure size 432x288 with 1 Axes>"
            ]
          },
          "metadata": {
            "tags": []
          }
        }
      ]
    },
    {
      "cell_type": "code",
      "metadata": {
        "id": "5uBPO-QHm43n",
        "colab_type": "code",
        "outputId": "d02a9f49-73a7-4426-8cc7-4c3b53d15ed5",
        "colab": {
          "base_uri": "https://localhost:8080/",
          "height": 264
        }
      },
      "source": [
        "plt.pie(\n",
        "      respondent_data_needtreatment['tech_company'],  # data\n",
        "      labels=respondent_data_needtreatment.index, # give label\n",
        "      startangle=90, \n",
        "      autopct='%.2f%%', # set format value of label\n",
        ")\n",
        "plt.title('Kebutuhan Perawatan Menurut Responden')\n",
        "plt.show()"
      ],
      "execution_count": 0,
      "outputs": [
        {
          "output_type": "display_data",
          "data": {
            "image/png": "[encoded data removed]",
            "text/plain": [
              "<Figure size 432x288 with 1 Axes>"
            ]
          },
          "metadata": {
            "tags": []
          }
        }
      ]
    },
    {
      "cell_type": "code",
      "metadata": {
        "id": "Gre2k8aJJ_xq",
        "colab_type": "code",
        "outputId": "b5e1cb34-d2f7-48b6-f1a3-d1a30c6a09d5",
        "colab": {
          "base_uri": "https://localhost:8080/",
          "height": 142
        }
      },
      "source": [
        "treatment_need_data = data_mentalhealth.groupby('tech_company').apply(\n",
        "                              lambda x: pd.Series(\n",
        "                                  dict(\n",
        "                                    need_treatment=(x.treatment == 'Yes').sum(),\n",
        "                                    dont_need_treatment=(x.treatment == 'No').sum()\n",
        "                                )\n",
        "                              )\n",
        "                          )\n",
        "treatment_need_data = treatment_need_data.rename(index={'No': 'Pekerja di Perusahaan Non IT', 'Yes': 'Pekerja di Perusahaan IT'})\n",
        "treatment_need_data"
      ],
      "execution_count": 0,
      "outputs": [
        {
          "output_type": "execute_result",
          "data": {
            "text/html": [
              "<div>\n",
              "<style scoped>\n",
              "    .dataframe tbody tr th:only-of-type {\n",
              "        vertical-align: middle;\n",
              "    }\n",
              "\n",
              "    .dataframe tbody tr th {\n",
              "        vertical-align: top;\n",
              "    }\n",
              "\n",
              "    .dataframe thead th {\n",
              "        text-align: right;\n",
              "    }\n",
              "</style>\n",
              "<table border=\"1\" class=\"dataframe\">\n",
              "  <thead>\n",
              "    <tr style=\"text-align: right;\">\n",
              "      <th></th>\n",
              "      <th>need_treatment</th>\n",
              "      <th>dont_need_treatment</th>\n",
              "    </tr>\n",
              "    <tr>\n",
              "      <th>tech_company</th>\n",
              "      <th></th>\n",
              "      <th></th>\n",
              "    </tr>\n",
              "  </thead>\n",
              "  <tbody>\n",
              "    <tr>\n",
              "      <th>Pekerja di Perusahaan Non IT</th>\n",
              "      <td>123</td>\n",
              "      <td>105</td>\n",
              "    </tr>\n",
              "    <tr>\n",
              "      <th>Pekerja di Perusahaan IT</th>\n",
              "      <td>512</td>\n",
              "      <td>517</td>\n",
              "    </tr>\n",
              "  </tbody>\n",
              "</table>\n",
              "</div>"
            ],
            "text/plain": [
              "                              need_treatment  dont_need_treatment\n",
              "tech_company                                                     \n",
              "Pekerja di Perusahaan Non IT             123                  105\n",
              "Pekerja di Perusahaan IT                 512                  517"
            ]
          },
          "metadata": {
            "tags": []
          },
          "execution_count": 91
        }
      ]
    },
    {
      "cell_type": "code",
      "metadata": {
        "id": "Eq99jGxyOfpP",
        "colab_type": "code",
        "outputId": "cf982dc5-f7b6-4943-aa97-3f23b6999708",
        "colab": {
          "base_uri": "https://localhost:8080/",
          "height": 264
        }
      },
      "source": [
        "plt.pie(\n",
        "      treatment_need_data['need_treatment'],  # data\n",
        "      labels=treatment_need_data.index, # give label\n",
        "      startangle=90, \n",
        "      autopct='%.2f%%', # set format value of label,\n",
        "      explode=(0.1, 0.05) # supaya mencar satu\n",
        ")\n",
        "plt.title('Kebutuhan \\'Treatment\\' Untuk Kesehatan Mental')\n",
        "plt.show()"
      ],
      "execution_count": 0,
      "outputs": [
        {
          "output_type": "display_data",
          "data": {
            "image/png": "[encoded data removed]",
            "text/plain": [
              "<Figure size 432x288 with 1 Axes>"
            ]
          },
          "metadata": {
            "tags": []
          }
        }
      ]
    },
    {
      "cell_type": "markdown",
      "metadata": {
        "id": "EYPEz9eH2qrZ",
        "colab_type": "text"
      },
      "source": [
        "**2. Bagaimana ukuran perusahaan berkaitan dengan memberikan fasilitas pekerja untuk membahas kesehatan mental?**"
      ]
    },
    {
      "cell_type": "code",
      "metadata": {
        "id": "1dewBs472rGT",
        "colab_type": "code",
        "outputId": "b4a3721d-4da5-4016-eee1-1fb18d32e77a",
        "colab": {
          "base_uri": "https://localhost:8080/",
          "height": 422
        }
      },
      "source": [
        "fig,ax = plt.subplots(figsize=(12,6))\n",
        "sns.countplot(data = data_mentalhealth, x = 'no_employees', hue ='care_options' )\n",
        "#ticks = plt.setp(ax.get_xticklabels(),rotation=45)\n",
        "plt.title('Jumlah Karyawan vs Layanan Perawatan')"
      ],
      "execution_count": 0,
      "outputs": [
        {
          "output_type": "execute_result",
          "data": {
            "text/plain": [
              "Text(0.5, 1.0, 'Jumlah Karyawan vs Layanan Perawatan')"
            ]
          },
          "metadata": {
            "tags": []
          },
          "execution_count": 93
        },
        {
          "output_type": "display_data",
          "data": {
            "image/png": "[encoded data removed]",
            "text/plain": [
              "<Figure size 864x432 with 1 Axes>"
            ]
          },
          "metadata": {
            "tags": []
          }
        }
      ]
    },
    {
      "cell_type": "markdown",
      "metadata": {
        "id": "nY9GDF6y2rt4",
        "colab_type": "text"
      },
      "source": [
        "**3. Bagaimana persebaran usia responden terhadap kebutuhan perawatan kesehatan mental?**"
      ]
    },
    {
      "cell_type": "code",
      "metadata": {
        "id": "jOQn9ILj2sOS",
        "colab_type": "code",
        "outputId": "b2075dac-e020-461e-fd9c-50a2fc1d952f",
        "colab": {
          "base_uri": "https://localhost:8080/",
          "height": 307
        }
      },
      "source": [
        "data_mentalhealth['age'] = pd.to_numeric(data_mentalhealth['age'],errors='coerce')\n",
        "def age_process(age):\n",
        "    if age>=0 and age<=100:\n",
        "        return age\n",
        "    else:\n",
        "        return np.nan\n",
        "data_mentalhealth['age'] = data_mentalhealth['age'].apply(age_process)"
      ],
      "execution_count": 0,
      "outputs": [
        {
          "output_type": "stream",
          "text": [
            "/usr/local/lib/python3.6/dist-packages/ipykernel_launcher.py:1: SettingWithCopyWarning:\n",
            "\n",
            "\n",
            "A value is trying to be set on a copy of a slice from a DataFrame.\n",
            "Try using .loc[row_indexer,col_indexer] = value instead\n",
            "\n",
            "See the caveats in the documentation: http://pandas.pydata.org/pandas-docs/stable/user_guide/indexing.html#returning-a-view-versus-a-copy\n",
            "\n",
            "/usr/local/lib/python3.6/dist-packages/ipykernel_launcher.py:7: SettingWithCopyWarning:\n",
            "\n",
            "\n",
            "A value is trying to be set on a copy of a slice from a DataFrame.\n",
            "Try using .loc[row_indexer,col_indexer] = value instead\n",
            "\n",
            "See the caveats in the documentation: http://pandas.pydata.org/pandas-docs/stable/user_guide/indexing.html#returning-a-view-versus-a-copy\n",
            "\n"
          ],
          "name": "stderr"
        }
      ]
    },
    {
      "cell_type": "code",
      "metadata": {
        "id": "_yVwIb3Nevx6",
        "colab_type": "code",
        "outputId": "7895a196-9384-465d-b643-88917355e567",
        "colab": {
          "base_uri": "https://localhost:8080/",
          "height": 421
        }
      },
      "source": [
        "fig = plt.subplots(figsize=(10,6))\n",
        "sns.distplot(\n",
        "    data_mentalhealth['age'].dropna(),\n",
        "    #ax=ax,\n",
        "    kde=True,\n",
        "    color='#0d47a1'\n",
        "    )\n",
        "plt.title('Distribusi Berdasar Usia Responden')\n",
        "plt.ylabel('Frekuensi')"
      ],
      "execution_count": 0,
      "outputs": [
        {
          "output_type": "execute_result",
          "data": {
            "text/plain": [
              "Text(0, 0.5, 'Frekuensi')"
            ]
          },
          "metadata": {
            "tags": []
          },
          "execution_count": 95
        },
        {
          "output_type": "display_data",
          "data": {
            "image/png": "[encoded data removed]",
            "text/plain": [
              "<Figure size 720x432 with 1 Axes>"
            ]
          },
          "metadata": {
            "tags": []
          }
        }
      ]
    },
    {
      "cell_type": "code",
      "metadata": {
        "id": "Al2MNfbyP3YF",
        "colab_type": "code",
        "outputId": "40c5cf2f-0a92-40cc-a923-f7a8617e0bf0",
        "colab": {
          "base_uri": "https://localhost:8080/",
          "height": 547
        }
      },
      "source": [
        "g = sns.FacetGrid(data_mentalhealth, col='treatment', size=7,margin_titles=True)\n",
        "g = g.map(sns.distplot, \"Age\")"
      ],
      "execution_count": 0,
      "outputs": [
        {
          "output_type": "stream",
          "text": [
            "/usr/local/lib/python3.6/dist-packages/seaborn/axisgrid.py:230: UserWarning: The `size` paramter has been renamed to `height`; please update your code.\n",
            "  warnings.warn(msg, UserWarning)\n"
          ],
          "name": "stderr"
        },
        {
          "output_type": "display_data",
          "data": {
            "image/png": "[encoded data removed]",
            "text/plain": [
              "<Figure size 1008x504 with 2 Axes>"
            ]
          },
          "metadata": {
            "tags": []
          }
        }
      ]
    },
    {
      "cell_type": "markdown",
      "metadata": {
        "id": "6AmVoAqcETn9",
        "colab_type": "text"
      },
      "source": [
        "**4. Bagaimana Dampak Historis Keluarga Terhadap Kebutuhan Perawatan?**"
      ]
    },
    {
      "cell_type": "code",
      "metadata": {
        "id": "pUNLdmuTDwY9",
        "colab_type": "code",
        "outputId": "0d36d8da-aea1-4dc9-c6d8-cbbef7b807aa",
        "colab": {
          "base_uri": "https://localhost:8080/",
          "height": 746
        }
      },
      "source": [
        "sns.catplot(x='seek_help', hue='mental_health_consequence', col='treatment', row='family_history', kind='count', data=data_mentalhealth)"
      ],
      "execution_count": 0,
      "outputs": [
        {
          "output_type": "execute_result",
          "data": {
            "text/plain": [
              "<seaborn.axisgrid.FacetGrid at 0x7f4ed39200b8>"
            ]
          },
          "metadata": {
            "tags": []
          },
          "execution_count": 104
        },
        {
          "output_type": "display_data",
          "data": {
            "image/png": "[encoded data removed]",
            "text/plain": [
              "<Figure size 870.875x720 with 4 Axes>"
            ]
          },
          "metadata": {
            "tags": []
          }
        }
      ]
    },
    {
      "cell_type": "markdown",
      "metadata": {
        "id": "jzV2COW_2u8D",
        "colab_type": "text"
      },
      "source": [
        "**5. Bagaimana frekuensi penyakit kesehatan mental dan sikap terhadap kesehatan mental menurut lokasi geografis?**\t"
      ]
    },
    {
      "cell_type": "code",
      "metadata": {
        "id": "7ZAim1WGEp69",
        "colab_type": "code",
        "colab": {}
      },
      "source": [
        "# make color for barplot\n",
        "color = cm.inferno_r(np.linspace(.4,.8, 30))"
      ],
      "execution_count": 0,
      "outputs": []
    },
    {
      "cell_type": "code",
      "metadata": {
        "id": "uPF_2AUE6-kx",
        "colab_type": "code",
        "outputId": "1e7be376-4212-420c-ca9e-d00b62c78785",
        "colab": {
          "base_uri": "https://localhost:8080/",
          "height": 407
        }
      },
      "source": [
        "data_mentalhealth.groupby(['country','gender']).treatment.count().nlargest(10).plot(\n",
        "                                                                                    kind = \"barh\",\n",
        "                                                                                    figsize=(12,6), \n",
        "                                                                                    color= color,\n",
        "                                                                                    title = \"Negara Dengan Kebutuhan Treatment Tertinggi Berdasarkan Jenis Kelamin\",\n",
        "                                                                                    )"
      ],
      "execution_count": 0,
      "outputs": [
        {
          "output_type": "execute_result",
          "data": {
            "text/plain": [
              "<matplotlib.axes._subplots.AxesSubplot at 0x7f7e7b64f320>"
            ]
          },
          "metadata": {
            "tags": []
          },
          "execution_count": 19
        },
        {
          "output_type": "display_data",
          "data": {
            "image/png": "[encoded data removed]",
            "text/plain": [
              "<Figure size 864x432 with 1 Axes>"
            ]
          },
          "metadata": {
            "tags": []
          }
        }
      ]
    },
    {
      "cell_type": "markdown",
      "metadata": {
        "colab_type": "text",
        "id": "GqJaCmgEY1l_"
      },
      "source": [
        "**5. Persebaran responden yang membutuhkan perawatan mental berdasarkan gender?**"
      ]
    },
    {
      "cell_type": "code",
      "metadata": {
        "id": "mdeUo5N0WQdn",
        "colab_type": "code",
        "outputId": "4b0ae742-3f07-4514-d6b7-0aaaa2c788a4",
        "colab": {
          "base_uri": "https://localhost:8080/",
          "height": 355
        }
      },
      "source": [
        "from urllib.request import urlopen\n",
        "import json\n",
        "with urlopen(\"https://github.com/LudiaRD/visif/blob/master/latlang.json\") as response:\n",
        "    name=json.load(response)\n",
        "\n",
        "import pandas as pd\n",
        "df = pd.read_csv(\"/content/drive/My Drive/Colab Notebooks/need.csv\", dtype={\"state\": str})\n",
        "\n",
        "import plotly.graph_objects as go\n",
        "fig = go.Figure(go.Choroplethmapbox(geojson=name, locations=df.state, z=df.need,\n",
        "                                    colorscale=\"Viridis\", zmin=0, zmax=400,\n",
        "                                    marker_opacity=0.5, marker_line_width=0))\n",
        "fig.update_layout(mapbox_style=\"carto-positron\",\n",
        "                  mapbox_zoom=3, mapbox_center = {\"lat\": 37.0902, \"lon\": -95.7129})\n",
        "fig.update_layout(margin={\"r\":0,\"t\":0,\"l\":0,\"b\":0})\n",
        "fig.show()"
      ],
      "execution_count": 0,
      "outputs": [
        {
          "output_type": "error",
          "ename": "JSONDecodeError",
          "evalue": "ignored",
          "traceback": [
            "\u001b[0;31m---------------------------------------------------------------------------\u001b[0m",
            "\u001b[0;31mJSONDecodeError\u001b[0m                           Traceback (most recent call last)",
            "\u001b[0;32m<ipython-input-110-f092a711156f>\u001b[0m in \u001b[0;36m<module>\u001b[0;34m()\u001b[0m\n\u001b[1;32m      2\u001b[0m \u001b[0;32mimport\u001b[0m \u001b[0mjson\u001b[0m\u001b[0;34m\u001b[0m\u001b[0;34m\u001b[0m\u001b[0m\n\u001b[1;32m      3\u001b[0m \u001b[0;32mwith\u001b[0m \u001b[0murlopen\u001b[0m\u001b[0;34m(\u001b[0m\u001b[0;34m\"https://github.com/LudiaRD/visif/blob/master/latlang.json\"\u001b[0m\u001b[0;34m)\u001b[0m \u001b[0;32mas\u001b[0m \u001b[0mresponse\u001b[0m\u001b[0;34m:\u001b[0m\u001b[0;34m\u001b[0m\u001b[0;34m\u001b[0m\u001b[0m\n\u001b[0;32m----> 4\u001b[0;31m     \u001b[0mname\u001b[0m\u001b[0;34m=\u001b[0m\u001b[0mjson\u001b[0m\u001b[0;34m.\u001b[0m\u001b[0mload\u001b[0m\u001b[0;34m(\u001b[0m\u001b[0mresponse\u001b[0m\u001b[0;34m)\u001b[0m\u001b[0;34m\u001b[0m\u001b[0;34m\u001b[0m\u001b[0m\n\u001b[0m\u001b[1;32m      5\u001b[0m \u001b[0;34m\u001b[0m\u001b[0m\n\u001b[1;32m      6\u001b[0m \u001b[0;32mimport\u001b[0m \u001b[0mpandas\u001b[0m \u001b[0;32mas\u001b[0m \u001b[0mpd\u001b[0m\u001b[0;34m\u001b[0m\u001b[0;34m\u001b[0m\u001b[0m\n",
            "\u001b[0;32m/usr/lib/python3.6/json/__init__.py\u001b[0m in \u001b[0;36mload\u001b[0;34m(fp, cls, object_hook, parse_float, parse_int, parse_constant, object_pairs_hook, **kw)\u001b[0m\n\u001b[1;32m    297\u001b[0m         \u001b[0mcls\u001b[0m\u001b[0;34m=\u001b[0m\u001b[0mcls\u001b[0m\u001b[0;34m,\u001b[0m \u001b[0mobject_hook\u001b[0m\u001b[0;34m=\u001b[0m\u001b[0mobject_hook\u001b[0m\u001b[0;34m,\u001b[0m\u001b[0;34m\u001b[0m\u001b[0;34m\u001b[0m\u001b[0m\n\u001b[1;32m    298\u001b[0m         \u001b[0mparse_float\u001b[0m\u001b[0;34m=\u001b[0m\u001b[0mparse_float\u001b[0m\u001b[0;34m,\u001b[0m \u001b[0mparse_int\u001b[0m\u001b[0;34m=\u001b[0m\u001b[0mparse_int\u001b[0m\u001b[0;34m,\u001b[0m\u001b[0;34m\u001b[0m\u001b[0;34m\u001b[0m\u001b[0m\n\u001b[0;32m--> 299\u001b[0;31m         parse_constant=parse_constant, object_pairs_hook=object_pairs_hook, **kw)\n\u001b[0m\u001b[1;32m    300\u001b[0m \u001b[0;34m\u001b[0m\u001b[0m\n\u001b[1;32m    301\u001b[0m \u001b[0;34m\u001b[0m\u001b[0m\n",
            "\u001b[0;32m/usr/lib/python3.6/json/__init__.py\u001b[0m in \u001b[0;36mloads\u001b[0;34m(s, encoding, cls, object_hook, parse_float, parse_int, parse_constant, object_pairs_hook, **kw)\u001b[0m\n\u001b[1;32m    352\u001b[0m             \u001b[0mparse_int\u001b[0m \u001b[0;32mis\u001b[0m \u001b[0;32mNone\u001b[0m \u001b[0;32mand\u001b[0m \u001b[0mparse_float\u001b[0m \u001b[0;32mis\u001b[0m \u001b[0;32mNone\u001b[0m \u001b[0;32mand\u001b[0m\u001b[0;34m\u001b[0m\u001b[0;34m\u001b[0m\u001b[0m\n\u001b[1;32m    353\u001b[0m             parse_constant is None and object_pairs_hook is None and not kw):\n\u001b[0;32m--> 354\u001b[0;31m         \u001b[0;32mreturn\u001b[0m \u001b[0m_default_decoder\u001b[0m\u001b[0;34m.\u001b[0m\u001b[0mdecode\u001b[0m\u001b[0;34m(\u001b[0m\u001b[0ms\u001b[0m\u001b[0;34m)\u001b[0m\u001b[0;34m\u001b[0m\u001b[0;34m\u001b[0m\u001b[0m\n\u001b[0m\u001b[1;32m    355\u001b[0m     \u001b[0;32mif\u001b[0m \u001b[0mcls\u001b[0m \u001b[0;32mis\u001b[0m \u001b[0;32mNone\u001b[0m\u001b[0;34m:\u001b[0m\u001b[0;34m\u001b[0m\u001b[0;34m\u001b[0m\u001b[0m\n\u001b[1;32m    356\u001b[0m         \u001b[0mcls\u001b[0m \u001b[0;34m=\u001b[0m \u001b[0mJSONDecoder\u001b[0m\u001b[0;34m\u001b[0m\u001b[0;34m\u001b[0m\u001b[0m\n",
            "\u001b[0;32m/usr/lib/python3.6/json/decoder.py\u001b[0m in \u001b[0;36mdecode\u001b[0;34m(self, s, _w)\u001b[0m\n\u001b[1;32m    337\u001b[0m \u001b[0;34m\u001b[0m\u001b[0m\n\u001b[1;32m    338\u001b[0m         \"\"\"\n\u001b[0;32m--> 339\u001b[0;31m         \u001b[0mobj\u001b[0m\u001b[0;34m,\u001b[0m \u001b[0mend\u001b[0m \u001b[0;34m=\u001b[0m \u001b[0mself\u001b[0m\u001b[0;34m.\u001b[0m\u001b[0mraw_decode\u001b[0m\u001b[0;34m(\u001b[0m\u001b[0ms\u001b[0m\u001b[0;34m,\u001b[0m \u001b[0midx\u001b[0m\u001b[0;34m=\u001b[0m\u001b[0m_w\u001b[0m\u001b[0;34m(\u001b[0m\u001b[0ms\u001b[0m\u001b[0;34m,\u001b[0m \u001b[0;36m0\u001b[0m\u001b[0;34m)\u001b[0m\u001b[0;34m.\u001b[0m\u001b[0mend\u001b[0m\u001b[0;34m(\u001b[0m\u001b[0;34m)\u001b[0m\u001b[0;34m)\u001b[0m\u001b[0;34m\u001b[0m\u001b[0;34m\u001b[0m\u001b[0m\n\u001b[0m\u001b[1;32m    340\u001b[0m         \u001b[0mend\u001b[0m \u001b[0;34m=\u001b[0m \u001b[0m_w\u001b[0m\u001b[0;34m(\u001b[0m\u001b[0ms\u001b[0m\u001b[0;34m,\u001b[0m \u001b[0mend\u001b[0m\u001b[0;34m)\u001b[0m\u001b[0;34m.\u001b[0m\u001b[0mend\u001b[0m\u001b[0;34m(\u001b[0m\u001b[0;34m)\u001b[0m\u001b[0;34m\u001b[0m\u001b[0;34m\u001b[0m\u001b[0m\n\u001b[1;32m    341\u001b[0m         \u001b[0;32mif\u001b[0m \u001b[0mend\u001b[0m \u001b[0;34m!=\u001b[0m \u001b[0mlen\u001b[0m\u001b[0;34m(\u001b[0m\u001b[0ms\u001b[0m\u001b[0;34m)\u001b[0m\u001b[0;34m:\u001b[0m\u001b[0;34m\u001b[0m\u001b[0;34m\u001b[0m\u001b[0m\n",
            "\u001b[0;32m/usr/lib/python3.6/json/decoder.py\u001b[0m in \u001b[0;36mraw_decode\u001b[0;34m(self, s, idx)\u001b[0m\n\u001b[1;32m    355\u001b[0m             \u001b[0mobj\u001b[0m\u001b[0;34m,\u001b[0m \u001b[0mend\u001b[0m \u001b[0;34m=\u001b[0m \u001b[0mself\u001b[0m\u001b[0;34m.\u001b[0m\u001b[0mscan_once\u001b[0m\u001b[0;34m(\u001b[0m\u001b[0ms\u001b[0m\u001b[0;34m,\u001b[0m \u001b[0midx\u001b[0m\u001b[0;34m)\u001b[0m\u001b[0;34m\u001b[0m\u001b[0;34m\u001b[0m\u001b[0m\n\u001b[1;32m    356\u001b[0m         \u001b[0;32mexcept\u001b[0m \u001b[0mStopIteration\u001b[0m \u001b[0;32mas\u001b[0m \u001b[0merr\u001b[0m\u001b[0;34m:\u001b[0m\u001b[0;34m\u001b[0m\u001b[0;34m\u001b[0m\u001b[0m\n\u001b[0;32m--> 357\u001b[0;31m             \u001b[0;32mraise\u001b[0m \u001b[0mJSONDecodeError\u001b[0m\u001b[0;34m(\u001b[0m\u001b[0;34m\"Expecting value\"\u001b[0m\u001b[0;34m,\u001b[0m \u001b[0ms\u001b[0m\u001b[0;34m,\u001b[0m \u001b[0merr\u001b[0m\u001b[0;34m.\u001b[0m\u001b[0mvalue\u001b[0m\u001b[0;34m)\u001b[0m \u001b[0;32mfrom\u001b[0m \u001b[0;32mNone\u001b[0m\u001b[0;34m\u001b[0m\u001b[0;34m\u001b[0m\u001b[0m\n\u001b[0m\u001b[1;32m    358\u001b[0m         \u001b[0;32mreturn\u001b[0m \u001b[0mobj\u001b[0m\u001b[0;34m,\u001b[0m \u001b[0mend\u001b[0m\u001b[0;34m\u001b[0m\u001b[0;34m\u001b[0m\u001b[0m\n",
            "\u001b[0;31mJSONDecodeError\u001b[0m: Expecting value: line 7 column 1 (char 6)"
          ]
        }
      ]
    }
  ]
}